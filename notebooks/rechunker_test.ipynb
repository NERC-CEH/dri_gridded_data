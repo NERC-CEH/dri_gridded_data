{
 "cells": [
  {
   "cell_type": "code",
   "execution_count": 1,
   "id": "0382ff25",
   "metadata": {
    "ExecuteTime": {
     "end_time": "2022-07-18T17:40:56.770705Z",
     "start_time": "2022-07-18T17:40:54.033175Z"
    }
   },
   "outputs": [],
   "source": [
    "import os\n",
    "import zarr\n",
    "import xarray as xr\n",
    "import subprocess as subp\n",
    "from rechunker import rechunk\n",
    "from dask.diagnostics import ProgressBar\n",
    "from dask.distributed import Client, LocalCluster"
   ]
  },
  {
   "cell_type": "code",
   "execution_count": 2,
   "id": "fcec3c12",
   "metadata": {
    "ExecuteTime": {
     "end_time": "2022-07-18T17:41:00.541003Z",
     "start_time": "2022-07-18T17:40:57.568231Z"
    }
   },
   "outputs": [],
   "source": [
    "cluster = LocalCluster(\n",
    "    dashboard_address=\":8788\", threads_per_worker=1, n_workers=10, memory_limit=\"30GiB\"\n",
    ")\n",
    "client = Client(cluster)"
   ]
  },
  {
   "cell_type": "code",
   "execution_count": 3,
   "id": "86181bf5",
   "metadata": {
    "ExecuteTime": {
     "end_time": "2022-07-18T17:41:05.138611Z",
     "start_time": "2022-07-18T17:41:05.131204Z"
    }
   },
   "outputs": [
    {
     "data": {
      "text/html": [
       "<table style=\"border: 2px solid white;\">\n",
       "<tr>\n",
       "<td style=\"vertical-align: top; border: 0px solid white\">\n",
       "<h3 style=\"text-align: left;\">Client</h3>\n",
       "<ul style=\"text-align: left; list-style: none; margin: 0; padding: 0;\">\n",
       "  <li><b>Scheduler: </b>tcp://127.0.0.1:41836</li>\n",
       "  <li><b>Dashboard: </b><a href='http://127.0.0.1:8788/status' target='_blank'>http://127.0.0.1:8788/status</a></li>\n",
       "</ul>\n",
       "</td>\n",
       "<td style=\"vertical-align: top; border: 0px solid white\">\n",
       "<h3 style=\"text-align: left;\">Cluster</h3>\n",
       "<ul style=\"text-align: left; list-style:none; margin: 0; padding: 0;\">\n",
       "  <li><b>Workers: </b>10</li>\n",
       "  <li><b>Cores: </b>10</li>\n",
       "  <li><b>Memory: </b>300.00 GiB</li>\n",
       "</ul>\n",
       "</td>\n",
       "</tr>\n",
       "</table>"
      ],
      "text/plain": [
       "<Client: 'tcp://127.0.0.1:41836' processes=10 threads=10, memory=300.00 GiB>"
      ]
     },
     "execution_count": 3,
     "metadata": {},
     "output_type": "execute_result"
    }
   ],
   "source": [
    "client"
   ]
  },
  {
   "cell_type": "code",
   "execution_count": 4,
   "id": "258f7d29",
   "metadata": {
    "ExecuteTime": {
     "end_time": "2022-07-18T17:31:36.616846Z",
     "start_time": "2022-07-18T17:31:36.093583Z"
    }
   },
   "outputs": [
    {
     "name": "stdout",
     "output_type": "stream",
     "text": [
      "rm: cannot remove ‘/work/scratch-pw/mattjbr/chess_scape/yearchunk/*’: No such file or directory\r\n"
     ]
    }
   ],
   "source": [
    "!rm -r /work/scratch-pw/mattjbr/chess_scape/yearchunk/*"
   ]
  },
  {
   "cell_type": "code",
   "execution_count": null,
   "id": "786b2324",
   "metadata": {
    "ExecuteTime": {
     "start_time": "2022-07-18T17:53:58.874Z"
    },
    "scrolled": false
   },
   "outputs": [
    {
     "name": "stdout",
     "output_type": "stream",
     "text": [
      "Processing 01 hurs\n"
     ]
    },
    {
     "name": "stderr",
     "output_type": "stream",
     "text": [
      "distributed.nanny - WARNING - Worker exceeded 95% memory budget. Restarting\n",
      "distributed.nanny - WARNING - Restarting worker\n",
      "distributed.nanny - WARNING - Worker exceeded 95% memory budget. Restarting\n",
      "distributed.nanny - WARNING - Restarting worker\n"
     ]
    },
    {
     "name": "stdout",
     "output_type": "stream",
     "text": [
      "Processing 01 huss\n"
     ]
    },
    {
     "name": "stderr",
     "output_type": "stream",
     "text": [
      "distributed.nanny - WARNING - Worker exceeded 95% memory budget. Restarting\n",
      "distributed.nanny - WARNING - Restarting worker\n"
     ]
    },
    {
     "name": "stdout",
     "output_type": "stream",
     "text": [
      "Processing 01 pr\n"
     ]
    },
    {
     "name": "stderr",
     "output_type": "stream",
     "text": [
      "distributed.nanny - WARNING - Worker exceeded 95% memory budget. Restarting\n",
      "distributed.nanny - WARNING - Restarting worker\n"
     ]
    },
    {
     "name": "stdout",
     "output_type": "stream",
     "text": [
      "Processing 01 psurf\n",
      "Processing 01 rlds\n",
      "Processing 01 rsds\n",
      "Processing 01 sfcWind\n",
      "Processing 01 tmax\n",
      "Processing 01 tmean\n",
      "Processing 01 tmin\n",
      "Processing 04 hurs\n",
      "Processing 04 huss\n",
      "Processing 04 pr\n",
      "Processing 04 rlds\n",
      "Processing 04 rsds\n",
      "Processing 04 sfcWind\n",
      "Processing 04 tmax\n",
      "Processing 04 tmean\n",
      "Processing 04 tmin\n",
      "Processing 06 hurs\n"
     ]
    }
   ],
   "source": [
    "ensmems = [\"01\", \"04\", \"06\", \"15\"]\n",
    "varnames = [\n",
    "    \"hurs\",\n",
    "    \"huss\",\n",
    "    \"pr\",\n",
    "    \"psurf\",\n",
    "    \"rlds\",\n",
    "    \"rsds\",\n",
    "    \"sfcWind\",\n",
    "    \"tmax\",\n",
    "    \"tmean\",\n",
    "    \"tmin\",\n",
    "]\n",
    "\n",
    "maxmem = \"20GB\"\n",
    "tempstore = \"/work/scratch-pw/mattjbr/chess_scape/tempstore.zarr\"\n",
    "if not os.path.exists(os.path.dirname(tempstore)):\n",
    "    os.makedirs(os.path.dirname(tempstore))\n",
    "\n",
    "for ensmem in ensmems:\n",
    "    for varname in varnames:\n",
    "        if ensmem != \"01\":\n",
    "            if varname == \"psurf\":\n",
    "                continue\n",
    "\n",
    "        print(\"Processing \" + ensmem + \" \" + varname)\n",
    "\n",
    "        source_group = zarr.open(\n",
    "            \"/gws/nopw/j04/ceh_generic/matbro/chess_scape/year100kmchunk/ens\"\n",
    "            + ensmem\n",
    "            + \"-year100kmchunk/\"\n",
    "            + varname\n",
    "            + \"_\"\n",
    "            + ensmem\n",
    "            + \"_year100km.zarr\"\n",
    "        )\n",
    "        targetstore = (\n",
    "            \"/work/scratch-pw/mattjbr/chess_scape/100year10kmchunk/\"\n",
    "            + varname\n",
    "            + \"_\"\n",
    "            + ensmem\n",
    "            + \"_100year10km.zarr\"\n",
    "        )\n",
    "\n",
    "        if not os.path.exists(os.path.dirname(targetstore)):\n",
    "            os.makedirs(os.path.dirname(targetstore))\n",
    "\n",
    "        if varname == \"tmean\":\n",
    "            zarrvname = \"tas\"\n",
    "        elif varname == \"tmax\":\n",
    "            zarrvname = \"tasmax\"\n",
    "        elif varname == \"tmin\":\n",
    "            zarrvname = \"tasmin\"\n",
    "        else:\n",
    "            zarrvname = varname\n",
    "\n",
    "        target_chunks = {\n",
    "            zarrvname: {\"time\": 36000, \"y\": 10, \"x\": 10},\n",
    "            \"lat\": {\"y\": 10, \"x\": 10},\n",
    "            \"lon\": {\"y\": 10, \"x\": 10},\n",
    "            \"y\": {\"y\": 10},\n",
    "            \"x\": {\"x\": 10},\n",
    "            \"time\": {\"time\": 36000},\n",
    "        }\n",
    "\n",
    "        subp.call([\"rm \" + tempstore], shell=True)\n",
    "        array_plan = rechunk(\n",
    "            source_group, target_chunks, maxmem, targetstore, temp_store=tempstore\n",
    "        )\n",
    "        array_plan.execute()"
   ]
  },
  {
   "cell_type": "markdown",
   "id": "f6e53f4e",
   "metadata": {},
   "source": [
    "---------------------"
   ]
  },
  {
   "cell_type": "markdown",
   "id": "968a0eba",
   "metadata": {
    "collapsed": true
   },
   "source": [
    "Optimum chunk size for S3 store is about 250MB, work out what this corresponds to in terms of chunk sizes if just chunking in time"
   ]
  },
  {
   "cell_type": "code",
   "execution_count": 22,
   "id": "9032d8f7",
   "metadata": {},
   "outputs": [],
   "source": [
    "import math"
   ]
  },
  {
   "cell_type": "code",
   "execution_count": 61,
   "id": "c07238ee",
   "metadata": {},
   "outputs": [],
   "source": [
    "data = xr.open_zarr(\n",
    "    \"/gws/nopw/j04/ceh_generic/matbro/chess_scape/monthchunk/ens01-monthchunk/tmean.zarr\"\n",
    ")"
   ]
  },
  {
   "cell_type": "code",
   "execution_count": 62,
   "id": "133d1ece",
   "metadata": {},
   "outputs": [
    {
     "data": {
      "text/html": [
       "<div><svg style=\"position: absolute; width: 0; height: 0; overflow: hidden\">\n",
       "<defs>\n",
       "<symbol id=\"icon-database\" viewBox=\"0 0 32 32\">\n",
       "<path d=\"M16 0c-8.837 0-16 2.239-16 5v4c0 2.761 7.163 5 16 5s16-2.239 16-5v-4c0-2.761-7.163-5-16-5z\"></path>\n",
       "<path d=\"M16 17c-8.837 0-16-2.239-16-5v6c0 2.761 7.163 5 16 5s16-2.239 16-5v-6c0 2.761-7.163 5-16 5z\"></path>\n",
       "<path d=\"M16 26c-8.837 0-16-2.239-16-5v6c0 2.761 7.163 5 16 5s16-2.239 16-5v-6c0 2.761-7.163 5-16 5z\"></path>\n",
       "</symbol>\n",
       "<symbol id=\"icon-file-text2\" viewBox=\"0 0 32 32\">\n",
       "<path d=\"M28.681 7.159c-0.694-0.947-1.662-2.053-2.724-3.116s-2.169-2.030-3.116-2.724c-1.612-1.182-2.393-1.319-2.841-1.319h-15.5c-1.378 0-2.5 1.121-2.5 2.5v27c0 1.378 1.122 2.5 2.5 2.5h23c1.378 0 2.5-1.122 2.5-2.5v-19.5c0-0.448-0.137-1.23-1.319-2.841zM24.543 5.457c0.959 0.959 1.712 1.825 2.268 2.543h-4.811v-4.811c0.718 0.556 1.584 1.309 2.543 2.268zM28 29.5c0 0.271-0.229 0.5-0.5 0.5h-23c-0.271 0-0.5-0.229-0.5-0.5v-27c0-0.271 0.229-0.5 0.5-0.5 0 0 15.499-0 15.5 0v7c0 0.552 0.448 1 1 1h7v19.5z\"></path>\n",
       "<path d=\"M23 26h-14c-0.552 0-1-0.448-1-1s0.448-1 1-1h14c0.552 0 1 0.448 1 1s-0.448 1-1 1z\"></path>\n",
       "<path d=\"M23 22h-14c-0.552 0-1-0.448-1-1s0.448-1 1-1h14c0.552 0 1 0.448 1 1s-0.448 1-1 1z\"></path>\n",
       "<path d=\"M23 18h-14c-0.552 0-1-0.448-1-1s0.448-1 1-1h14c0.552 0 1 0.448 1 1s-0.448 1-1 1z\"></path>\n",
       "</symbol>\n",
       "</defs>\n",
       "</svg>\n",
       "<style>/* CSS stylesheet for displaying xarray objects in jupyterlab.\n",
       " *\n",
       " */\n",
       "\n",
       ":root {\n",
       "  --xr-font-color0: var(--jp-content-font-color0, rgba(0, 0, 0, 1));\n",
       "  --xr-font-color2: var(--jp-content-font-color2, rgba(0, 0, 0, 0.54));\n",
       "  --xr-font-color3: var(--jp-content-font-color3, rgba(0, 0, 0, 0.38));\n",
       "  --xr-border-color: var(--jp-border-color2, #e0e0e0);\n",
       "  --xr-disabled-color: var(--jp-layout-color3, #bdbdbd);\n",
       "  --xr-background-color: var(--jp-layout-color0, white);\n",
       "  --xr-background-color-row-even: var(--jp-layout-color1, white);\n",
       "  --xr-background-color-row-odd: var(--jp-layout-color2, #eeeeee);\n",
       "}\n",
       "\n",
       "html[theme=dark],\n",
       "body.vscode-dark {\n",
       "  --xr-font-color0: rgba(255, 255, 255, 1);\n",
       "  --xr-font-color2: rgba(255, 255, 255, 0.54);\n",
       "  --xr-font-color3: rgba(255, 255, 255, 0.38);\n",
       "  --xr-border-color: #1F1F1F;\n",
       "  --xr-disabled-color: #515151;\n",
       "  --xr-background-color: #111111;\n",
       "  --xr-background-color-row-even: #111111;\n",
       "  --xr-background-color-row-odd: #313131;\n",
       "}\n",
       "\n",
       ".xr-wrap {\n",
       "  display: block;\n",
       "  min-width: 300px;\n",
       "  max-width: 700px;\n",
       "}\n",
       "\n",
       ".xr-text-repr-fallback {\n",
       "  /* fallback to plain text repr when CSS is not injected (untrusted notebook) */\n",
       "  display: none;\n",
       "}\n",
       "\n",
       ".xr-header {\n",
       "  padding-top: 6px;\n",
       "  padding-bottom: 6px;\n",
       "  margin-bottom: 4px;\n",
       "  border-bottom: solid 1px var(--xr-border-color);\n",
       "}\n",
       "\n",
       ".xr-header > div,\n",
       ".xr-header > ul {\n",
       "  display: inline;\n",
       "  margin-top: 0;\n",
       "  margin-bottom: 0;\n",
       "}\n",
       "\n",
       ".xr-obj-type,\n",
       ".xr-array-name {\n",
       "  margin-left: 2px;\n",
       "  margin-right: 10px;\n",
       "}\n",
       "\n",
       ".xr-obj-type {\n",
       "  color: var(--xr-font-color2);\n",
       "}\n",
       "\n",
       ".xr-sections {\n",
       "  padding-left: 0 !important;\n",
       "  display: grid;\n",
       "  grid-template-columns: 150px auto auto 1fr 20px 20px;\n",
       "}\n",
       "\n",
       ".xr-section-item {\n",
       "  display: contents;\n",
       "}\n",
       "\n",
       ".xr-section-item input {\n",
       "  display: none;\n",
       "}\n",
       "\n",
       ".xr-section-item input + label {\n",
       "  color: var(--xr-disabled-color);\n",
       "}\n",
       "\n",
       ".xr-section-item input:enabled + label {\n",
       "  cursor: pointer;\n",
       "  color: var(--xr-font-color2);\n",
       "}\n",
       "\n",
       ".xr-section-item input:enabled + label:hover {\n",
       "  color: var(--xr-font-color0);\n",
       "}\n",
       "\n",
       ".xr-section-summary {\n",
       "  grid-column: 1;\n",
       "  color: var(--xr-font-color2);\n",
       "  font-weight: 500;\n",
       "}\n",
       "\n",
       ".xr-section-summary > span {\n",
       "  display: inline-block;\n",
       "  padding-left: 0.5em;\n",
       "}\n",
       "\n",
       ".xr-section-summary-in:disabled + label {\n",
       "  color: var(--xr-font-color2);\n",
       "}\n",
       "\n",
       ".xr-section-summary-in + label:before {\n",
       "  display: inline-block;\n",
       "  content: '►';\n",
       "  font-size: 11px;\n",
       "  width: 15px;\n",
       "  text-align: center;\n",
       "}\n",
       "\n",
       ".xr-section-summary-in:disabled + label:before {\n",
       "  color: var(--xr-disabled-color);\n",
       "}\n",
       "\n",
       ".xr-section-summary-in:checked + label:before {\n",
       "  content: '▼';\n",
       "}\n",
       "\n",
       ".xr-section-summary-in:checked + label > span {\n",
       "  display: none;\n",
       "}\n",
       "\n",
       ".xr-section-summary,\n",
       ".xr-section-inline-details {\n",
       "  padding-top: 4px;\n",
       "  padding-bottom: 4px;\n",
       "}\n",
       "\n",
       ".xr-section-inline-details {\n",
       "  grid-column: 2 / -1;\n",
       "}\n",
       "\n",
       ".xr-section-details {\n",
       "  display: none;\n",
       "  grid-column: 1 / -1;\n",
       "  margin-bottom: 5px;\n",
       "}\n",
       "\n",
       ".xr-section-summary-in:checked ~ .xr-section-details {\n",
       "  display: contents;\n",
       "}\n",
       "\n",
       ".xr-array-wrap {\n",
       "  grid-column: 1 / -1;\n",
       "  display: grid;\n",
       "  grid-template-columns: 20px auto;\n",
       "}\n",
       "\n",
       ".xr-array-wrap > label {\n",
       "  grid-column: 1;\n",
       "  vertical-align: top;\n",
       "}\n",
       "\n",
       ".xr-preview {\n",
       "  color: var(--xr-font-color3);\n",
       "}\n",
       "\n",
       ".xr-array-preview,\n",
       ".xr-array-data {\n",
       "  padding: 0 5px !important;\n",
       "  grid-column: 2;\n",
       "}\n",
       "\n",
       ".xr-array-data,\n",
       ".xr-array-in:checked ~ .xr-array-preview {\n",
       "  display: none;\n",
       "}\n",
       "\n",
       ".xr-array-in:checked ~ .xr-array-data,\n",
       ".xr-array-preview {\n",
       "  display: inline-block;\n",
       "}\n",
       "\n",
       ".xr-dim-list {\n",
       "  display: inline-block !important;\n",
       "  list-style: none;\n",
       "  padding: 0 !important;\n",
       "  margin: 0;\n",
       "}\n",
       "\n",
       ".xr-dim-list li {\n",
       "  display: inline-block;\n",
       "  padding: 0;\n",
       "  margin: 0;\n",
       "}\n",
       "\n",
       ".xr-dim-list:before {\n",
       "  content: '(';\n",
       "}\n",
       "\n",
       ".xr-dim-list:after {\n",
       "  content: ')';\n",
       "}\n",
       "\n",
       ".xr-dim-list li:not(:last-child):after {\n",
       "  content: ',';\n",
       "  padding-right: 5px;\n",
       "}\n",
       "\n",
       ".xr-has-index {\n",
       "  font-weight: bold;\n",
       "}\n",
       "\n",
       ".xr-var-list,\n",
       ".xr-var-item {\n",
       "  display: contents;\n",
       "}\n",
       "\n",
       ".xr-var-item > div,\n",
       ".xr-var-item label,\n",
       ".xr-var-item > .xr-var-name span {\n",
       "  background-color: var(--xr-background-color-row-even);\n",
       "  margin-bottom: 0;\n",
       "}\n",
       "\n",
       ".xr-var-item > .xr-var-name:hover span {\n",
       "  padding-right: 5px;\n",
       "}\n",
       "\n",
       ".xr-var-list > li:nth-child(odd) > div,\n",
       ".xr-var-list > li:nth-child(odd) > label,\n",
       ".xr-var-list > li:nth-child(odd) > .xr-var-name span {\n",
       "  background-color: var(--xr-background-color-row-odd);\n",
       "}\n",
       "\n",
       ".xr-var-name {\n",
       "  grid-column: 1;\n",
       "}\n",
       "\n",
       ".xr-var-dims {\n",
       "  grid-column: 2;\n",
       "}\n",
       "\n",
       ".xr-var-dtype {\n",
       "  grid-column: 3;\n",
       "  text-align: right;\n",
       "  color: var(--xr-font-color2);\n",
       "}\n",
       "\n",
       ".xr-var-preview {\n",
       "  grid-column: 4;\n",
       "}\n",
       "\n",
       ".xr-var-name,\n",
       ".xr-var-dims,\n",
       ".xr-var-dtype,\n",
       ".xr-preview,\n",
       ".xr-attrs dt {\n",
       "  white-space: nowrap;\n",
       "  overflow: hidden;\n",
       "  text-overflow: ellipsis;\n",
       "  padding-right: 10px;\n",
       "}\n",
       "\n",
       ".xr-var-name:hover,\n",
       ".xr-var-dims:hover,\n",
       ".xr-var-dtype:hover,\n",
       ".xr-attrs dt:hover {\n",
       "  overflow: visible;\n",
       "  width: auto;\n",
       "  z-index: 1;\n",
       "}\n",
       "\n",
       ".xr-var-attrs,\n",
       ".xr-var-data {\n",
       "  display: none;\n",
       "  background-color: var(--xr-background-color) !important;\n",
       "  padding-bottom: 5px !important;\n",
       "}\n",
       "\n",
       ".xr-var-attrs-in:checked ~ .xr-var-attrs,\n",
       ".xr-var-data-in:checked ~ .xr-var-data {\n",
       "  display: block;\n",
       "}\n",
       "\n",
       ".xr-var-data > table {\n",
       "  float: right;\n",
       "}\n",
       "\n",
       ".xr-var-name span,\n",
       ".xr-var-data,\n",
       ".xr-attrs {\n",
       "  padding-left: 25px !important;\n",
       "}\n",
       "\n",
       ".xr-attrs,\n",
       ".xr-var-attrs,\n",
       ".xr-var-data {\n",
       "  grid-column: 1 / -1;\n",
       "}\n",
       "\n",
       "dl.xr-attrs {\n",
       "  padding: 0;\n",
       "  margin: 0;\n",
       "  display: grid;\n",
       "  grid-template-columns: 125px auto;\n",
       "}\n",
       "\n",
       ".xr-attrs dt,\n",
       ".xr-attrs dd {\n",
       "  padding: 0;\n",
       "  margin: 0;\n",
       "  float: left;\n",
       "  padding-right: 10px;\n",
       "  width: auto;\n",
       "}\n",
       "\n",
       ".xr-attrs dt {\n",
       "  font-weight: normal;\n",
       "  grid-column: 1;\n",
       "}\n",
       "\n",
       ".xr-attrs dt:hover span {\n",
       "  display: inline-block;\n",
       "  background: var(--xr-background-color);\n",
       "  padding-right: 10px;\n",
       "}\n",
       "\n",
       ".xr-attrs dd {\n",
       "  grid-column: 2;\n",
       "  white-space: pre-wrap;\n",
       "  word-break: break-all;\n",
       "}\n",
       "\n",
       ".xr-icon-database,\n",
       ".xr-icon-file-text2 {\n",
       "  display: inline-block;\n",
       "  vertical-align: middle;\n",
       "  width: 1em;\n",
       "  height: 1.5em !important;\n",
       "  stroke-width: 0;\n",
       "  stroke: currentColor;\n",
       "  fill: currentColor;\n",
       "}\n",
       "</style><pre class='xr-text-repr-fallback'>&lt;xarray.Dataset&gt;\n",
       "Dimensions:  (time: 36000, x: 656, y: 1057)\n",
       "Coordinates:\n",
       "  * time     (time) object 1980-12-01 12:00:00 ... 2080-11-30 12:00:00\n",
       "  * x        (x) float32 500.0 1.5e+03 2.5e+03 ... 6.535e+05 6.545e+05 6.555e+05\n",
       "  * y        (y) float32 500.0 1.5e+03 2.5e+03 ... 1.054e+06 1.056e+06 1.056e+06\n",
       "Data variables:\n",
       "    lat      (y, x) float32 dask.array&lt;chunksize=(1057, 656), meta=np.ndarray&gt;\n",
       "    lon      (y, x) float32 dask.array&lt;chunksize=(1057, 656), meta=np.ndarray&gt;\n",
       "    tas      (time, y, x) float32 dask.array&lt;chunksize=(30, 1057, 656), meta=np.ndarray&gt;\n",
       "Attributes:\n",
       "    NCO:            4.7.3\n",
       "    contact:        emrobi@ceh.ac.uk\n",
       "    institution:    CEH Wallingford - NERC\n",
       "    normalisation:  bias corrected against historical CHESS data\n",
       "    project:        UK-SCAPE: SPEED</pre><div class='xr-wrap' hidden><div class='xr-header'><div class='xr-obj-type'>xarray.Dataset</div></div><ul class='xr-sections'><li class='xr-section-item'><input id='section-db9b8b75-bc7e-4d7d-9e37-be62705dfacf' class='xr-section-summary-in' type='checkbox' disabled ><label for='section-db9b8b75-bc7e-4d7d-9e37-be62705dfacf' class='xr-section-summary'  title='Expand/collapse section'>Dimensions:</label><div class='xr-section-inline-details'><ul class='xr-dim-list'><li><span class='xr-has-index'>time</span>: 36000</li><li><span class='xr-has-index'>x</span>: 656</li><li><span class='xr-has-index'>y</span>: 1057</li></ul></div><div class='xr-section-details'></div></li><li class='xr-section-item'><input id='section-de91697e-b197-496e-a8a2-23b2bd2152a1' class='xr-section-summary-in' type='checkbox'  checked><label for='section-de91697e-b197-496e-a8a2-23b2bd2152a1' class='xr-section-summary' >Coordinates: <span>(3)</span></label><div class='xr-section-inline-details'></div><div class='xr-section-details'><ul class='xr-var-list'><li class='xr-var-item'><div class='xr-var-name'><span class='xr-has-index'>time</span></div><div class='xr-var-dims'>(time)</div><div class='xr-var-dtype'>object</div><div class='xr-var-preview xr-preview'>1980-12-01 12:00:00 ... 2080-11-...</div><input id='attrs-e37f8706-4105-419c-9d30-d04f3dc451b8' class='xr-var-attrs-in' type='checkbox' ><label for='attrs-e37f8706-4105-419c-9d30-d04f3dc451b8' title='Show/Hide attributes'><svg class='icon xr-icon-file-text2'><use xlink:href='#icon-file-text2'></use></svg></label><input id='data-9ebf8ee6-0e1d-42a7-8d08-c719b5e330d3' class='xr-var-data-in' type='checkbox'><label for='data-9ebf8ee6-0e1d-42a7-8d08-c719b5e330d3' title='Show/Hide data repr'><svg class='icon xr-icon-database'><use xlink:href='#icon-database'></use></svg></label><div class='xr-var-attrs'><dl class='xr-attrs'><dt><span>axis :</span></dt><dd>T</dd><dt><span>standard_name :</span></dt><dd>time</dd></dl></div><div class='xr-var-data'><pre>array([cftime.Datetime360Day(1980, 12, 1, 12, 0, 0, 0, has_year_zero=False),\n",
       "       cftime.Datetime360Day(1980, 12, 2, 12, 0, 0, 0, has_year_zero=False),\n",
       "       cftime.Datetime360Day(1980, 12, 3, 12, 0, 0, 0, has_year_zero=False),\n",
       "       ...,\n",
       "       cftime.Datetime360Day(2080, 11, 28, 12, 0, 0, 0, has_year_zero=False),\n",
       "       cftime.Datetime360Day(2080, 11, 29, 12, 0, 0, 0, has_year_zero=False),\n",
       "       cftime.Datetime360Day(2080, 11, 30, 12, 0, 0, 0, has_year_zero=False)],\n",
       "      dtype=object)</pre></div></li><li class='xr-var-item'><div class='xr-var-name'><span class='xr-has-index'>x</span></div><div class='xr-var-dims'>(x)</div><div class='xr-var-dtype'>float32</div><div class='xr-var-preview xr-preview'>500.0 1.5e+03 ... 6.555e+05</div><input id='attrs-608d20aa-f9fe-40bc-aeb3-fa5ea14691ee' class='xr-var-attrs-in' type='checkbox' ><label for='attrs-608d20aa-f9fe-40bc-aeb3-fa5ea14691ee' title='Show/Hide attributes'><svg class='icon xr-icon-file-text2'><use xlink:href='#icon-file-text2'></use></svg></label><input id='data-db6cd7b9-0cc6-421f-985e-cdbdc2869353' class='xr-var-data-in' type='checkbox'><label for='data-db6cd7b9-0cc6-421f-985e-cdbdc2869353' title='Show/Hide data repr'><svg class='icon xr-icon-database'><use xlink:href='#icon-database'></use></svg></label><div class='xr-var-attrs'><dl class='xr-attrs'><dt><span>axis :</span></dt><dd>X</dd><dt><span>standard_name :</span></dt><dd>projection_x_coordinate</dd><dt><span>units :</span></dt><dd>m</dd></dl></div><div class='xr-var-data'><pre>array([5.000e+02, 1.500e+03, 2.500e+03, ..., 6.535e+05, 6.545e+05, 6.555e+05],\n",
       "      dtype=float32)</pre></div></li><li class='xr-var-item'><div class='xr-var-name'><span class='xr-has-index'>y</span></div><div class='xr-var-dims'>(y)</div><div class='xr-var-dtype'>float32</div><div class='xr-var-preview xr-preview'>500.0 1.5e+03 ... 1.056e+06</div><input id='attrs-25fcc902-00ba-4591-931f-ae8812812cf0' class='xr-var-attrs-in' type='checkbox' ><label for='attrs-25fcc902-00ba-4591-931f-ae8812812cf0' title='Show/Hide attributes'><svg class='icon xr-icon-file-text2'><use xlink:href='#icon-file-text2'></use></svg></label><input id='data-63f15d80-3679-4a55-8a32-2d9a4f918e9b' class='xr-var-data-in' type='checkbox'><label for='data-63f15d80-3679-4a55-8a32-2d9a4f918e9b' title='Show/Hide data repr'><svg class='icon xr-icon-database'><use xlink:href='#icon-database'></use></svg></label><div class='xr-var-attrs'><dl class='xr-attrs'><dt><span>axis :</span></dt><dd>Y</dd><dt><span>standard_name :</span></dt><dd>projection_y_coordinate</dd><dt><span>units :</span></dt><dd>m</dd></dl></div><div class='xr-var-data'><pre>array([5.0000e+02, 1.5000e+03, 2.5000e+03, ..., 1.0545e+06, 1.0555e+06,\n",
       "       1.0565e+06], dtype=float32)</pre></div></li></ul></div></li><li class='xr-section-item'><input id='section-b9766497-ed34-465c-9a21-700d15940884' class='xr-section-summary-in' type='checkbox'  checked><label for='section-b9766497-ed34-465c-9a21-700d15940884' class='xr-section-summary' >Data variables: <span>(3)</span></label><div class='xr-section-inline-details'></div><div class='xr-section-details'><ul class='xr-var-list'><li class='xr-var-item'><div class='xr-var-name'><span>lat</span></div><div class='xr-var-dims'>(y, x)</div><div class='xr-var-dtype'>float32</div><div class='xr-var-preview xr-preview'>dask.array&lt;chunksize=(1057, 656), meta=np.ndarray&gt;</div><input id='attrs-7edd2999-b372-41cf-a4f5-1adeacc262d0' class='xr-var-attrs-in' type='checkbox' ><label for='attrs-7edd2999-b372-41cf-a4f5-1adeacc262d0' title='Show/Hide attributes'><svg class='icon xr-icon-file-text2'><use xlink:href='#icon-file-text2'></use></svg></label><input id='data-86bbe398-fd13-42d7-a9ca-dc5b5323d133' class='xr-var-data-in' type='checkbox'><label for='data-86bbe398-fd13-42d7-a9ca-dc5b5323d133' title='Show/Hide data repr'><svg class='icon xr-icon-database'><use xlink:href='#icon-database'></use></svg></label><div class='xr-var-attrs'><dl class='xr-attrs'><dt><span>standard_name :</span></dt><dd>latitude</dd><dt><span>units :</span></dt><dd>degrees east</dd></dl></div><div class='xr-var-data'><table>\n",
       "<tr>\n",
       "<td>\n",
       "<table>\n",
       "  <thead>\n",
       "    <tr><td> </td><th> Array </th><th> Chunk </th></tr>\n",
       "  </thead>\n",
       "  <tbody>\n",
       "    <tr><th> Bytes </th><td> 2.65 MiB </td> <td> 2.65 MiB </td></tr>\n",
       "    <tr><th> Shape </th><td> (1057, 656) </td> <td> (1057, 656) </td></tr>\n",
       "    <tr><th> Count </th><td> 2 Tasks </td><td> 1 Chunks </td></tr>\n",
       "    <tr><th> Type </th><td> float32 </td><td> numpy.ndarray </td></tr>\n",
       "  </tbody>\n",
       "</table>\n",
       "</td>\n",
       "<td>\n",
       "<svg width=\"124\" height=\"170\" style=\"stroke:rgb(0,0,0);stroke-width:1\" >\n",
       "\n",
       "  <!-- Horizontal lines -->\n",
       "  <line x1=\"0\" y1=\"0\" x2=\"74\" y2=\"0\" style=\"stroke-width:2\" />\n",
       "  <line x1=\"0\" y1=\"120\" x2=\"74\" y2=\"120\" style=\"stroke-width:2\" />\n",
       "\n",
       "  <!-- Vertical lines -->\n",
       "  <line x1=\"0\" y1=\"0\" x2=\"0\" y2=\"120\" style=\"stroke-width:2\" />\n",
       "  <line x1=\"74\" y1=\"0\" x2=\"74\" y2=\"120\" style=\"stroke-width:2\" />\n",
       "\n",
       "  <!-- Colored Rectangle -->\n",
       "  <polygon points=\"0.0,0.0 74.47492904446547,0.0 74.47492904446547,120.0 0.0,120.0\" style=\"fill:#ECB172A0;stroke-width:0\"/>\n",
       "\n",
       "  <!-- Text -->\n",
       "  <text x=\"37.237465\" y=\"140.000000\" font-size=\"1.0rem\" font-weight=\"100\" text-anchor=\"middle\" >656</text>\n",
       "  <text x=\"94.474929\" y=\"60.000000\" font-size=\"1.0rem\" font-weight=\"100\" text-anchor=\"middle\" transform=\"rotate(-90,94.474929,60.000000)\">1057</text>\n",
       "</svg>\n",
       "</td>\n",
       "</tr>\n",
       "</table></div></li><li class='xr-var-item'><div class='xr-var-name'><span>lon</span></div><div class='xr-var-dims'>(y, x)</div><div class='xr-var-dtype'>float32</div><div class='xr-var-preview xr-preview'>dask.array&lt;chunksize=(1057, 656), meta=np.ndarray&gt;</div><input id='attrs-f625aab7-5b0e-4d73-a4a1-9ea8b6e40a6d' class='xr-var-attrs-in' type='checkbox' ><label for='attrs-f625aab7-5b0e-4d73-a4a1-9ea8b6e40a6d' title='Show/Hide attributes'><svg class='icon xr-icon-file-text2'><use xlink:href='#icon-file-text2'></use></svg></label><input id='data-20a25d99-b0bb-4162-b9ff-510b5ca476ba' class='xr-var-data-in' type='checkbox'><label for='data-20a25d99-b0bb-4162-b9ff-510b5ca476ba' title='Show/Hide data repr'><svg class='icon xr-icon-database'><use xlink:href='#icon-database'></use></svg></label><div class='xr-var-attrs'><dl class='xr-attrs'><dt><span>standard_name :</span></dt><dd>longitude</dd><dt><span>units :</span></dt><dd>degrees east</dd></dl></div><div class='xr-var-data'><table>\n",
       "<tr>\n",
       "<td>\n",
       "<table>\n",
       "  <thead>\n",
       "    <tr><td> </td><th> Array </th><th> Chunk </th></tr>\n",
       "  </thead>\n",
       "  <tbody>\n",
       "    <tr><th> Bytes </th><td> 2.65 MiB </td> <td> 2.65 MiB </td></tr>\n",
       "    <tr><th> Shape </th><td> (1057, 656) </td> <td> (1057, 656) </td></tr>\n",
       "    <tr><th> Count </th><td> 2 Tasks </td><td> 1 Chunks </td></tr>\n",
       "    <tr><th> Type </th><td> float32 </td><td> numpy.ndarray </td></tr>\n",
       "  </tbody>\n",
       "</table>\n",
       "</td>\n",
       "<td>\n",
       "<svg width=\"124\" height=\"170\" style=\"stroke:rgb(0,0,0);stroke-width:1\" >\n",
       "\n",
       "  <!-- Horizontal lines -->\n",
       "  <line x1=\"0\" y1=\"0\" x2=\"74\" y2=\"0\" style=\"stroke-width:2\" />\n",
       "  <line x1=\"0\" y1=\"120\" x2=\"74\" y2=\"120\" style=\"stroke-width:2\" />\n",
       "\n",
       "  <!-- Vertical lines -->\n",
       "  <line x1=\"0\" y1=\"0\" x2=\"0\" y2=\"120\" style=\"stroke-width:2\" />\n",
       "  <line x1=\"74\" y1=\"0\" x2=\"74\" y2=\"120\" style=\"stroke-width:2\" />\n",
       "\n",
       "  <!-- Colored Rectangle -->\n",
       "  <polygon points=\"0.0,0.0 74.47492904446547,0.0 74.47492904446547,120.0 0.0,120.0\" style=\"fill:#ECB172A0;stroke-width:0\"/>\n",
       "\n",
       "  <!-- Text -->\n",
       "  <text x=\"37.237465\" y=\"140.000000\" font-size=\"1.0rem\" font-weight=\"100\" text-anchor=\"middle\" >656</text>\n",
       "  <text x=\"94.474929\" y=\"60.000000\" font-size=\"1.0rem\" font-weight=\"100\" text-anchor=\"middle\" transform=\"rotate(-90,94.474929,60.000000)\">1057</text>\n",
       "</svg>\n",
       "</td>\n",
       "</tr>\n",
       "</table></div></li><li class='xr-var-item'><div class='xr-var-name'><span>tas</span></div><div class='xr-var-dims'>(time, y, x)</div><div class='xr-var-dtype'>float32</div><div class='xr-var-preview xr-preview'>dask.array&lt;chunksize=(30, 1057, 656), meta=np.ndarray&gt;</div><input id='attrs-4725bea8-b23a-4ca4-9ffb-8db47b351e0d' class='xr-var-attrs-in' type='checkbox' ><label for='attrs-4725bea8-b23a-4ca4-9ffb-8db47b351e0d' title='Show/Hide attributes'><svg class='icon xr-icon-file-text2'><use xlink:href='#icon-file-text2'></use></svg></label><input id='data-6105d96b-98ad-460f-a313-ed09419d7d95' class='xr-var-data-in' type='checkbox'><label for='data-6105d96b-98ad-460f-a313-ed09419d7d95' title='Show/Hide data repr'><svg class='icon xr-icon-database'><use xlink:href='#icon-database'></use></svg></label><div class='xr-var-attrs'><dl class='xr-attrs'><dt><span>long_name :</span></dt><dd>Mean air temperature</dd><dt><span>standard_name :</span></dt><dd>air_temperature</dd><dt><span>units :</span></dt><dd>K</dd></dl></div><div class='xr-var-data'><table>\n",
       "<tr>\n",
       "<td>\n",
       "<table>\n",
       "  <thead>\n",
       "    <tr><td> </td><th> Array </th><th> Chunk </th></tr>\n",
       "  </thead>\n",
       "  <tbody>\n",
       "    <tr><th> Bytes </th><td> 92.99 GiB </td> <td> 79.35 MiB </td></tr>\n",
       "    <tr><th> Shape </th><td> (36000, 1057, 656) </td> <td> (30, 1057, 656) </td></tr>\n",
       "    <tr><th> Count </th><td> 1201 Tasks </td><td> 1200 Chunks </td></tr>\n",
       "    <tr><th> Type </th><td> float32 </td><td> numpy.ndarray </td></tr>\n",
       "  </tbody>\n",
       "</table>\n",
       "</td>\n",
       "<td>\n",
       "<svg width=\"159\" height=\"151\" style=\"stroke:rgb(0,0,0);stroke-width:1\" >\n",
       "\n",
       "  <!-- Horizontal lines -->\n",
       "  <line x1=\"10\" y1=\"0\" x2=\"80\" y2=\"70\" style=\"stroke-width:2\" />\n",
       "  <line x1=\"10\" y1=\"31\" x2=\"80\" y2=\"101\" style=\"stroke-width:2\" />\n",
       "\n",
       "  <!-- Vertical lines -->\n",
       "  <line x1=\"10\" y1=\"0\" x2=\"10\" y2=\"31\" style=\"stroke-width:2\" />\n",
       "  <line x1=\"13\" y1=\"3\" x2=\"13\" y2=\"34\" />\n",
       "  <line x1=\"17\" y1=\"7\" x2=\"17\" y2=\"38\" />\n",
       "  <line x1=\"21\" y1=\"11\" x2=\"21\" y2=\"42\" />\n",
       "  <line x1=\"24\" y1=\"14\" x2=\"24\" y2=\"46\" />\n",
       "  <line x1=\"28\" y1=\"18\" x2=\"28\" y2=\"49\" />\n",
       "  <line x1=\"32\" y1=\"22\" x2=\"32\" y2=\"53\" />\n",
       "  <line x1=\"36\" y1=\"26\" x2=\"36\" y2=\"57\" />\n",
       "  <line x1=\"39\" y1=\"29\" x2=\"39\" y2=\"60\" />\n",
       "  <line x1=\"43\" y1=\"33\" x2=\"43\" y2=\"64\" />\n",
       "  <line x1=\"47\" y1=\"37\" x2=\"47\" y2=\"68\" />\n",
       "  <line x1=\"50\" y1=\"40\" x2=\"50\" y2=\"72\" />\n",
       "  <line x1=\"54\" y1=\"44\" x2=\"54\" y2=\"75\" />\n",
       "  <line x1=\"58\" y1=\"48\" x2=\"58\" y2=\"79\" />\n",
       "  <line x1=\"62\" y1=\"52\" x2=\"62\" y2=\"83\" />\n",
       "  <line x1=\"65\" y1=\"55\" x2=\"65\" y2=\"86\" />\n",
       "  <line x1=\"69\" y1=\"59\" x2=\"69\" y2=\"90\" />\n",
       "  <line x1=\"73\" y1=\"63\" x2=\"73\" y2=\"94\" />\n",
       "  <line x1=\"76\" y1=\"66\" x2=\"76\" y2=\"98\" />\n",
       "  <line x1=\"80\" y1=\"70\" x2=\"80\" y2=\"101\" style=\"stroke-width:2\" />\n",
       "\n",
       "  <!-- Colored Rectangle -->\n",
       "  <polygon points=\"10.0,0.0 80.58823529411765,70.58823529411765 80.58823529411765,101.84993554558446 10.0,31.26170025146681\" style=\"fill:#8B4903A0;stroke-width:0\"/>\n",
       "\n",
       "  <!-- Horizontal lines -->\n",
       "  <line x1=\"10\" y1=\"0\" x2=\"38\" y2=\"0\" style=\"stroke-width:2\" />\n",
       "  <line x1=\"13\" y1=\"3\" x2=\"42\" y2=\"3\" />\n",
       "  <line x1=\"17\" y1=\"7\" x2=\"45\" y2=\"7\" />\n",
       "  <line x1=\"21\" y1=\"11\" x2=\"49\" y2=\"11\" />\n",
       "  <line x1=\"24\" y1=\"14\" x2=\"53\" y2=\"14\" />\n",
       "  <line x1=\"28\" y1=\"18\" x2=\"57\" y2=\"18\" />\n",
       "  <line x1=\"32\" y1=\"22\" x2=\"60\" y2=\"22\" />\n",
       "  <line x1=\"36\" y1=\"26\" x2=\"64\" y2=\"26\" />\n",
       "  <line x1=\"39\" y1=\"29\" x2=\"68\" y2=\"29\" />\n",
       "  <line x1=\"43\" y1=\"33\" x2=\"71\" y2=\"33\" />\n",
       "  <line x1=\"47\" y1=\"37\" x2=\"75\" y2=\"37\" />\n",
       "  <line x1=\"50\" y1=\"40\" x2=\"79\" y2=\"40\" />\n",
       "  <line x1=\"54\" y1=\"44\" x2=\"83\" y2=\"44\" />\n",
       "  <line x1=\"58\" y1=\"48\" x2=\"86\" y2=\"48\" />\n",
       "  <line x1=\"62\" y1=\"52\" x2=\"90\" y2=\"52\" />\n",
       "  <line x1=\"65\" y1=\"55\" x2=\"94\" y2=\"55\" />\n",
       "  <line x1=\"69\" y1=\"59\" x2=\"97\" y2=\"59\" />\n",
       "  <line x1=\"73\" y1=\"63\" x2=\"101\" y2=\"63\" />\n",
       "  <line x1=\"76\" y1=\"66\" x2=\"105\" y2=\"66\" />\n",
       "  <line x1=\"80\" y1=\"70\" x2=\"109\" y2=\"70\" style=\"stroke-width:2\" />\n",
       "\n",
       "  <!-- Vertical lines -->\n",
       "  <line x1=\"10\" y1=\"0\" x2=\"80\" y2=\"70\" style=\"stroke-width:2\" />\n",
       "  <line x1=\"38\" y1=\"0\" x2=\"109\" y2=\"70\" style=\"stroke-width:2\" />\n",
       "\n",
       "  <!-- Colored Rectangle -->\n",
       "  <polygon points=\"10.0,0.0 38.51145937509958,0.0 109.09969466921723,70.58823529411765 80.58823529411765,70.58823529411765\" style=\"fill:#8B4903A0;stroke-width:0\"/>\n",
       "\n",
       "  <!-- Horizontal lines -->\n",
       "  <line x1=\"80\" y1=\"70\" x2=\"109\" y2=\"70\" style=\"stroke-width:2\" />\n",
       "  <line x1=\"80\" y1=\"101\" x2=\"109\" y2=\"101\" style=\"stroke-width:2\" />\n",
       "\n",
       "  <!-- Vertical lines -->\n",
       "  <line x1=\"80\" y1=\"70\" x2=\"80\" y2=\"101\" style=\"stroke-width:2\" />\n",
       "  <line x1=\"109\" y1=\"70\" x2=\"109\" y2=\"101\" style=\"stroke-width:2\" />\n",
       "\n",
       "  <!-- Colored Rectangle -->\n",
       "  <polygon points=\"80.58823529411765,70.58823529411765 109.09969466921723,70.58823529411765 109.09969466921723,101.84993554558446 80.58823529411765,101.84993554558446\" style=\"fill:#ECB172A0;stroke-width:0\"/>\n",
       "\n",
       "  <!-- Text -->\n",
       "  <text x=\"94.843965\" y=\"121.849936\" font-size=\"1.0rem\" font-weight=\"100\" text-anchor=\"middle\" >656</text>\n",
       "  <text x=\"129.099695\" y=\"86.219085\" font-size=\"1.0rem\" font-weight=\"100\" text-anchor=\"middle\" transform=\"rotate(-90,129.099695,86.219085)\">1057</text>\n",
       "  <text x=\"35.294118\" y=\"86.555818\" font-size=\"1.0rem\" font-weight=\"100\" text-anchor=\"middle\" transform=\"rotate(45,35.294118,86.555818)\">36000</text>\n",
       "</svg>\n",
       "</td>\n",
       "</tr>\n",
       "</table></div></li></ul></div></li><li class='xr-section-item'><input id='section-5af5ef28-52d6-4c7d-874c-cedcab12b02e' class='xr-section-summary-in' type='checkbox'  checked><label for='section-5af5ef28-52d6-4c7d-874c-cedcab12b02e' class='xr-section-summary' >Attributes: <span>(5)</span></label><div class='xr-section-inline-details'></div><div class='xr-section-details'><dl class='xr-attrs'><dt><span>NCO :</span></dt><dd>4.7.3</dd><dt><span>contact :</span></dt><dd>emrobi@ceh.ac.uk</dd><dt><span>institution :</span></dt><dd>CEH Wallingford - NERC</dd><dt><span>normalisation :</span></dt><dd>bias corrected against historical CHESS data</dd><dt><span>project :</span></dt><dd>UK-SCAPE: SPEED</dd></dl></div></li></ul></div></div>"
      ],
      "text/plain": [
       "<xarray.Dataset>\n",
       "Dimensions:  (time: 36000, x: 656, y: 1057)\n",
       "Coordinates:\n",
       "  * time     (time) object 1980-12-01 12:00:00 ... 2080-11-30 12:00:00\n",
       "  * x        (x) float32 500.0 1.5e+03 2.5e+03 ... 6.535e+05 6.545e+05 6.555e+05\n",
       "  * y        (y) float32 500.0 1.5e+03 2.5e+03 ... 1.054e+06 1.056e+06 1.056e+06\n",
       "Data variables:\n",
       "    lat      (y, x) float32 dask.array<chunksize=(1057, 656), meta=np.ndarray>\n",
       "    lon      (y, x) float32 dask.array<chunksize=(1057, 656), meta=np.ndarray>\n",
       "    tas      (time, y, x) float32 dask.array<chunksize=(30, 1057, 656), meta=np.ndarray>\n",
       "Attributes:\n",
       "    NCO:            4.7.3\n",
       "    contact:        emrobi@ceh.ac.uk\n",
       "    institution:    CEH Wallingford - NERC\n",
       "    normalisation:  bias corrected against historical CHESS data\n",
       "    project:        UK-SCAPE: SPEED"
      ]
     },
     "execution_count": 62,
     "metadata": {},
     "output_type": "execute_result"
    }
   ],
   "source": [
    "data"
   ]
  },
  {
   "cell_type": "code",
   "execution_count": 31,
   "id": "549c5c7b",
   "metadata": {},
   "outputs": [],
   "source": [
    "nmbytes = data[\"tas\"].nbytes / 1e6"
   ]
  },
  {
   "cell_type": "code",
   "execution_count": 78,
   "id": "db011223",
   "metadata": {},
   "outputs": [
    {
     "name": "stdout",
     "output_type": "stream",
     "text": [
      "90\n"
     ]
    }
   ],
   "source": [
    "chunk_size_mbytes = 250\n",
    "time_chunk = math.ceil(len(data.time) / math.ceil(nmbytes / chunk_size_mbytes))\n",
    "print(time_chunk)"
   ]
  },
  {
   "cell_type": "markdown",
   "id": "ed316f2a",
   "metadata": {},
   "source": [
    "Now calculate chunk sizes for other configurations"
   ]
  },
  {
   "cell_type": "code",
   "execution_count": 64,
   "id": "4a30ab26",
   "metadata": {},
   "outputs": [],
   "source": [
    "def calc_chunk_size(tsize, xsize, ysize):\n",
    "    return (tsize * xsize * ysize * 4) / 1e6"
   ]
  },
  {
   "cell_type": "code",
   "execution_count": 65,
   "id": "fe1fd37a",
   "metadata": {},
   "outputs": [
    {
     "data": {
      "text/plain": [
       "83.20704"
      ]
     },
     "execution_count": 65,
     "metadata": {},
     "output_type": "execute_result"
    }
   ],
   "source": [
    "calc_chunk_size(30, 656, 1057)  # month chunks, no space"
   ]
  },
  {
   "cell_type": "code",
   "execution_count": 66,
   "id": "08d23770",
   "metadata": {},
   "outputs": [
    {
     "data": {
      "text/plain": [
       "249.62112"
      ]
     },
     "execution_count": 66,
     "metadata": {},
     "output_type": "execute_result"
    }
   ],
   "source": [
    "calc_chunk_size(90, 656, 1057)  # season chunks, no space"
   ]
  },
  {
   "cell_type": "code",
   "execution_count": 67,
   "id": "4cea2dea",
   "metadata": {},
   "outputs": [
    {
     "data": {
      "text/plain": [
       "998.48448"
      ]
     },
     "execution_count": 67,
     "metadata": {},
     "output_type": "execute_result"
    }
   ],
   "source": [
    "calc_chunk_size(360, 656, 1057)  # year chunks, no space"
   ]
  },
  {
   "cell_type": "code",
   "execution_count": 69,
   "id": "7ad7db4a",
   "metadata": {},
   "outputs": [
    {
     "data": {
      "text/plain": [
       "14.4"
      ]
     },
     "execution_count": 69,
     "metadata": {},
     "output_type": "execute_result"
    }
   ],
   "source": [
    "calc_chunk_size(360, 100, 100)  # year, 100km chunks"
   ]
  },
  {
   "cell_type": "code",
   "execution_count": 70,
   "id": "0b6bfbb5",
   "metadata": {},
   "outputs": [
    {
     "data": {
      "text/plain": [
       "144.0"
      ]
     },
     "execution_count": 70,
     "metadata": {},
     "output_type": "execute_result"
    }
   ],
   "source": [
    "calc_chunk_size(3600, 100, 100)  # decade, 100km chunks"
   ]
  },
  {
   "cell_type": "code",
   "execution_count": 77,
   "id": "ccdbf778",
   "metadata": {},
   "outputs": [
    {
     "data": {
      "text/plain": [
       "14.4"
      ]
     },
     "execution_count": 77,
     "metadata": {},
     "output_type": "execute_result"
    }
   ],
   "source": [
    "calc_chunk_size(36000, 10, 10)  # century, 10km chunks"
   ]
  },
  {
   "cell_type": "code",
   "execution_count": null,
   "id": "37093462",
   "metadata": {},
   "outputs": [],
   "source": []
  }
 ],
 "metadata": {
  "hide_input": false,
  "kernelspec": {
   "display_name": "Python 3",
   "language": "python",
   "name": "python3"
  },
  "language_info": {
   "codemirror_mode": {
    "name": "ipython",
    "version": 3
   },
   "file_extension": ".py",
   "mimetype": "text/x-python",
   "name": "python",
   "nbconvert_exporter": "python",
   "pygments_lexer": "ipython3",
   "version": "3.9.4"
  },
  "varInspector": {
   "cols": {
    "lenName": 16,
    "lenType": 16,
    "lenVar": 40
   },
   "kernels_config": {
    "python": {
     "delete_cmd_postfix": "",
     "delete_cmd_prefix": "del ",
     "library": "var_list.py",
     "varRefreshCmd": "print(var_dic_list())"
    },
    "r": {
     "delete_cmd_postfix": ") ",
     "delete_cmd_prefix": "rm(",
     "library": "var_list.r",
     "varRefreshCmd": "cat(var_dic_list()) "
    }
   },
   "types_to_exclude": [
    "module",
    "function",
    "builtin_function_or_method",
    "instance",
    "_Feature"
   ],
   "window_display": false
  }
 },
 "nbformat": 4,
 "nbformat_minor": 5
}
