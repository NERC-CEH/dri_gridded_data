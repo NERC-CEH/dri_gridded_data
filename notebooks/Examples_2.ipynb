{
 "cells": [
  {
   "cell_type": "markdown",
   "id": "ef2bff7b-2ded-4a9c-8ad3-2ea65fbfeec2",
   "metadata": {},
   "source": [
    "# Examples 2"
   ]
  },
  {
   "cell_type": "code",
   "execution_count": 10,
   "id": "aaae7e35-02f0-4a52-a63e-34ba79629975",
   "metadata": {},
   "outputs": [],
   "source": [
    "%matplotlib notebook\n",
    "import numpy as np\n",
    "import pandas as pd\n",
    "import geopandas as gpd\n",
    "import cartopy as cp\n",
    "import xarray as xr\n",
    "from dask.diagnostics import ProgressBar\n",
    "import matplotlib.pyplot as plt\n",
    "from utils import * # import some of my own functions\n",
    "import fsspec\n",
    "import s3fs"
   ]
  },
  {
   "cell_type": "markdown",
   "id": "7011d05e-7a6f-4655-ba51-70a47abb4f5d",
   "metadata": {},
   "source": [
    "## Shapefiles"
   ]
  },
  {
   "cell_type": "markdown",
   "id": "604760ed-f501-4795-9324-6c1e48bf25bf",
   "metadata": {},
   "source": [
    "Shapefiles are files that contain vectors (shapes) geo-referenced to a particular coordinate system"
   ]
  },
  {
   "cell_type": "markdown",
   "id": "889ce36c-508b-4af1-ab16-7a7bf747b1e6",
   "metadata": {},
   "source": [
    "They are often used in hydrology to define catchment areas, river channels and hydrological administrative regions. "
   ]
  },
  {
   "cell_type": "markdown",
   "id": "16bde19e-e72e-4168-869e-c94dc8f6c9aa",
   "metadata": {},
   "source": [
    "Each 'shape' in a shapefile will typically have a set of attributes that tell you more information about the shape, such as the name of the river or catchment it defines. "
   ]
  },
  {
   "cell_type": "markdown",
   "id": "717ab1ae-5550-4e48-876b-420fea6dda63",
   "metadata": {},
   "source": [
    "The easiest way to see what's in a shapefile in python is to use a package called geopandas. It is essentially an extension of the pandas package, which is used to work with tabular data."
   ]
  },
  {
   "cell_type": "markdown",
   "id": "0becb0e2-82b4-4b8b-b7f1-dd0ae5cfdda1",
   "metadata": {},
   "source": [
    "Sidenote: Shapefiles often confusingly come with several ancillary files. The main shapefile will have a **'.shp'** ending, with ancillaries ending with some or all of **'shx', '.sbx', '.sbn', '.dbf', '.cpg', '.prj'**, which provide additional information about the vectors/shapes contained in the **'.shp'** file. Most shapefile packages in python and elsewhere will read in the information they need from these ancillary files automatically if you provide the path to the **'.shp'** file, and therefore most of the time you can ignore them! If reading the shapefiles from an S3 object storage filesystem, like we are doing below, the ancillary files need to be zipped up together with the **'.shp'** file and the zip archive read in for the ancillaries to be automatically loaded. "
   ]
  },
  {
   "cell_type": "code",
   "execution_count": 17,
   "id": "bf55eba3-27d3-41b1-861f-007f0869a620",
   "metadata": {},
   "outputs": [],
   "source": [
    "# Set up the S3 (object storage) filesystem object\n",
    "s3 = s3fs.S3FileSystem(anon=True, endpoint_url=\"https://fdri-o.s3-ext.jc.rl.ac.uk\")"
   ]
  },
  {
   "cell_type": "code",
   "execution_count": 22,
   "id": "718eb3d6-1378-43dc-82ff-88d657027ef5",
   "metadata": {},
   "outputs": [],
   "source": [
    "# Read from the filesystem - note the zip as explained above\n",
    "shapefile = gpd.read_file(s3.open('s3://example-data/gb_catchments.zip'))"
   ]
  },
  {
   "cell_type": "code",
   "execution_count": 23,
   "id": "28e7212b-db95-47a4-9cb3-4eccb371fb9e",
   "metadata": {},
   "outputs": [
    {
     "data": {
      "text/html": [
       "<div>\n",
       "<style scoped>\n",
       "    .dataframe tbody tr th:only-of-type {\n",
       "        vertical-align: middle;\n",
       "    }\n",
       "\n",
       "    .dataframe tbody tr th {\n",
       "        vertical-align: top;\n",
       "    }\n",
       "\n",
       "    .dataframe thead th {\n",
       "        text-align: right;\n",
       "    }\n",
       "</style>\n",
       "<table border=\"1\" class=\"dataframe\">\n",
       "  <thead>\n",
       "    <tr style=\"text-align: right;\">\n",
       "      <th></th>\n",
       "      <th>OBJECTID</th>\n",
       "      <th>ID_STRING</th>\n",
       "      <th>ID</th>\n",
       "      <th>SHAPE_AREA</th>\n",
       "      <th>SHAPE_LEN</th>\n",
       "      <th>geometry</th>\n",
       "    </tr>\n",
       "  </thead>\n",
       "  <tbody>\n",
       "    <tr>\n",
       "      <th>0</th>\n",
       "      <td>227</td>\n",
       "      <td>18010</td>\n",
       "      <td>18010.0</td>\n",
       "      <td>0.0</td>\n",
       "      <td>0.0</td>\n",
       "      <td>POLYGON ((271449.998 695224.998, 271400 695224...</td>\n",
       "    </tr>\n",
       "    <tr>\n",
       "      <th>1</th>\n",
       "      <td>244</td>\n",
       "      <td>21014</td>\n",
       "      <td>21014.0</td>\n",
       "      <td>0.0</td>\n",
       "      <td>0.0</td>\n",
       "      <td>POLYGON ((310900.002 628474.999, 311150.002 62...</td>\n",
       "    </tr>\n",
       "    <tr>\n",
       "      <th>2</th>\n",
       "      <td>245</td>\n",
       "      <td>21015</td>\n",
       "      <td>21015.0</td>\n",
       "      <td>0.0</td>\n",
       "      <td>0.0</td>\n",
       "      <td>POLYGON ((356475.002 638850.002, 356349.999 63...</td>\n",
       "    </tr>\n",
       "    <tr>\n",
       "      <th>3</th>\n",
       "      <td>247</td>\n",
       "      <td>21017</td>\n",
       "      <td>21017.0</td>\n",
       "      <td>0.0</td>\n",
       "      <td>0.0</td>\n",
       "      <td>POLYGON ((323424.998 613149.998, 323375 613100...</td>\n",
       "    </tr>\n",
       "    <tr>\n",
       "      <th>4</th>\n",
       "      <td>269</td>\n",
       "      <td>22004</td>\n",
       "      <td>22004.0</td>\n",
       "      <td>0.0</td>\n",
       "      <td>0.0</td>\n",
       "      <td>POLYGON ((421150.002 612925, 421225.001 612850...</td>\n",
       "    </tr>\n",
       "    <tr>\n",
       "      <th>...</th>\n",
       "      <td>...</td>\n",
       "      <td>...</td>\n",
       "      <td>...</td>\n",
       "      <td>...</td>\n",
       "      <td>...</td>\n",
       "      <td>...</td>\n",
       "    </tr>\n",
       "    <tr>\n",
       "      <th>1888</th>\n",
       "      <td>174</td>\n",
       "      <td>21003</td>\n",
       "      <td>21003.0</td>\n",
       "      <td>0.0</td>\n",
       "      <td>0.0</td>\n",
       "      <td>POLYGON ((325775.002 640050, 325775.002 640000...</td>\n",
       "    </tr>\n",
       "    <tr>\n",
       "      <th>1889</th>\n",
       "      <td>187</td>\n",
       "      <td>19021</td>\n",
       "      <td>19021.0</td>\n",
       "      <td>0.0</td>\n",
       "      <td>0.0</td>\n",
       "      <td>POLYGON ((333800.001 667825.002, 333900.002 66...</td>\n",
       "    </tr>\n",
       "    <tr>\n",
       "      <th>1890</th>\n",
       "      <td>197</td>\n",
       "      <td>20806</td>\n",
       "      <td>20806.0</td>\n",
       "      <td>0.0</td>\n",
       "      <td>0.0</td>\n",
       "      <td>POLYGON ((363849.998 677374.998, 364024.998 67...</td>\n",
       "    </tr>\n",
       "    <tr>\n",
       "      <th>1891</th>\n",
       "      <td>204</td>\n",
       "      <td>17004</td>\n",
       "      <td>17004.0</td>\n",
       "      <td>0.0</td>\n",
       "      <td>0.0</td>\n",
       "      <td>POLYGON ((333000 699774.998, 333100.001 699774...</td>\n",
       "    </tr>\n",
       "    <tr>\n",
       "      <th>1892</th>\n",
       "      <td>208</td>\n",
       "      <td>17008</td>\n",
       "      <td>17008.0</td>\n",
       "      <td>0.0</td>\n",
       "      <td>0.0</td>\n",
       "      <td>POLYGON ((312275.001 701549.999, 312249.999 70...</td>\n",
       "    </tr>\n",
       "  </tbody>\n",
       "</table>\n",
       "<p>1893 rows × 6 columns</p>\n",
       "</div>"
      ],
      "text/plain": [
       "      OBJECTID ID_STRING       ID  SHAPE_AREA  SHAPE_LEN  \\\n",
       "0          227     18010  18010.0         0.0        0.0   \n",
       "1          244     21014  21014.0         0.0        0.0   \n",
       "2          245     21015  21015.0         0.0        0.0   \n",
       "3          247     21017  21017.0         0.0        0.0   \n",
       "4          269     22004  22004.0         0.0        0.0   \n",
       "...        ...       ...      ...         ...        ...   \n",
       "1888       174     21003  21003.0         0.0        0.0   \n",
       "1889       187     19021  19021.0         0.0        0.0   \n",
       "1890       197     20806  20806.0         0.0        0.0   \n",
       "1891       204     17004  17004.0         0.0        0.0   \n",
       "1892       208     17008  17008.0         0.0        0.0   \n",
       "\n",
       "                                               geometry  \n",
       "0     POLYGON ((271449.998 695224.998, 271400 695224...  \n",
       "1     POLYGON ((310900.002 628474.999, 311150.002 62...  \n",
       "2     POLYGON ((356475.002 638850.002, 356349.999 63...  \n",
       "3     POLYGON ((323424.998 613149.998, 323375 613100...  \n",
       "4     POLYGON ((421150.002 612925, 421225.001 612850...  \n",
       "...                                                 ...  \n",
       "1888  POLYGON ((325775.002 640050, 325775.002 640000...  \n",
       "1889  POLYGON ((333800.001 667825.002, 333900.002 66...  \n",
       "1890  POLYGON ((363849.998 677374.998, 364024.998 67...  \n",
       "1891  POLYGON ((333000 699774.998, 333100.001 699774...  \n",
       "1892  POLYGON ((312275.001 701549.999, 312249.999 70...  \n",
       "\n",
       "[1893 rows x 6 columns]"
      ]
     },
     "execution_count": 23,
     "metadata": {},
     "output_type": "execute_result"
    }
   ],
   "source": [
    "shapefile"
   ]
  },
  {
   "cell_type": "markdown",
   "id": "7f00de36-352b-4444-8eae-26922c77357b",
   "metadata": {},
   "source": [
    "The tabular representation of the shapefile shows each shape in the shapefile as a separate row. Each column shows an attribute of the shapes, with the actual vector geometry stored in the final column."
   ]
  },
  {
   "cell_type": "markdown",
   "id": "50fd71b7-ab68-4331-83f9-ff3d56c236ef",
   "metadata": {},
   "source": [
    "We can select out one of the rows and plot it to see what it looks like:"
   ]
  },
  {
   "cell_type": "code",
   "execution_count": null,
   "id": "83dfc3ab-4519-4623-9f9a-dcea7e16ea0a",
   "metadata": {},
   "outputs": [],
   "source": []
  }
 ],
 "metadata": {
  "kernelspec": {
   "display_name": "zarrv3",
   "language": "python",
   "name": "zarrv3"
  },
  "language_info": {
   "codemirror_mode": {
    "name": "ipython",
    "version": 3
   },
   "file_extension": ".py",
   "mimetype": "text/x-python",
   "name": "python",
   "nbconvert_exporter": "python",
   "pygments_lexer": "ipython3",
   "version": "3.13.3"
  }
 },
 "nbformat": 4,
 "nbformat_minor": 5
}
